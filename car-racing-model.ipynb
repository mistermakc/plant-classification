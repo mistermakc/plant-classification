{
 "cells": [
  {
   "attachments": {},
   "cell_type": "markdown",
   "metadata": {},
   "source": [
    "#  **Resolution**"
   ]
  },
  {
   "attachments": {},
   "cell_type": "markdown",
   "metadata": {},
   "source": [
    "##  **Part 0: Imports**"
   ]
  },
  {
   "attachments": {},
   "cell_type": "markdown",
   "metadata": {},
   "source": [
    "### **• Libraries and Module Imports:**\n",
    "\n",
    "Importing the necessary libraries and modules to manipulate and interact with the dataset."
   ]
  },
  {
   "cell_type": "code",
   "execution_count": 1,
   "metadata": {},
   "outputs": [],
   "source": [
    "import gym\n",
    "from stable_baselines3 import PPO\n",
    "from stable_baselines3.common.vec_env import DummyVecEnv\n",
    "from stable_baselines3.common.evaluation import evaluate_policy\n",
    "import os\n",
    "import numpy as np\n",
    "\n",
    "import imageio\n",
    "from IPython import display\n",
    "import matplotlib.pyplot as plt"
   ]
  },
  {
   "attachments": {},
   "cell_type": "markdown",
   "metadata": {},
   "source": [
    "--------------------------------------------------------------------------------------------------------------------------------------------------------------------------"
   ]
  },
  {
   "attachments": {},
   "cell_type": "markdown",
   "metadata": {},
   "source": [
    "##  **Part I: Setting UP the Environment**\n",
    "\n",
    "Define the environment that will be used - \"CarRaving-v2\" and create an instance of it."
   ]
  },
  {
   "cell_type": "code",
   "execution_count": 2,
   "metadata": {},
   "outputs": [],
   "source": [
    "# Defining the type of environment.\n",
    "environment_name = 'CarRacing-v2'\n",
    "\n",
    "# Creating an instance of it and setting the render mode as \"human\" so the environment can be seen on video.\n",
    "env = gym.make(environment_name, render_mode=\"human\")"
   ]
  },
  {
   "cell_type": "code",
   "execution_count": 3,
   "metadata": {},
   "outputs": [
    {
     "data": {
      "text/plain": [
       "Box([-1.  0.  0.], 1.0, (3,), float32)"
      ]
     },
     "execution_count": 3,
     "metadata": {},
     "output_type": "execute_result"
    }
   ],
   "source": [
    "# Checking the Action Space.\n",
    "env.action_space"
   ]
  },
  {
   "attachments": {},
   "cell_type": "markdown",
   "metadata": {},
   "source": [
    "**Insight:** The used action space will be continuos and have 3 different actions:\n",
    " - **Steering -** [-1 Full Left, + 1 Full Right]\n",
    " - **Gas -** [0,1 Full Gas]\n",
    " - **Brake -** [0,1 Full Brake]"
   ]
  },
  {
   "cell_type": "code",
   "execution_count": 4,
   "metadata": {},
   "outputs": [
    {
     "data": {
      "text/plain": [
       "Box(0, 255, (96, 96, 3), uint8)"
      ]
     },
     "execution_count": 4,
     "metadata": {},
     "output_type": "execute_result"
    }
   ],
   "source": [
    "env.observation_space"
   ]
  },
  {
   "attachments": {},
   "cell_type": "markdown",
   "metadata": {},
   "source": [
    "**Insight:** The Observation Space will consist of 96x96 RGB (3-channel) pixel frames from the gameplay."
   ]
  },
  {
   "attachments": {},
   "cell_type": "markdown",
   "metadata": {},
   "source": [
    "--------------------------------------------------------------------------------------------------------------------------------------------------------------------------"
   ]
  },
  {
   "attachments": {},
   "cell_type": "markdown",
   "metadata": {},
   "source": [
    "##  **Part II: Running a Baseline of Random Episodes**\n",
    "\n",
    "Let the agent take random actions in the environment in order to give a baseline of what to expect from an untrained agent."
   ]
  },
  {
   "cell_type": "code",
   "execution_count": 5,
   "metadata": {},
   "outputs": [
    {
     "ename": "KeyboardInterrupt",
     "evalue": "",
     "output_type": "error",
     "traceback": [
      "\u001b[1;31m---------------------------------------------------------------------------\u001b[0m",
      "\u001b[1;31mKeyboardInterrupt\u001b[0m                         Traceback (most recent call last)",
      "Cell \u001b[1;32mIn[5], line 25\u001b[0m\n\u001b[0;32m     22\u001b[0m action \u001b[39m=\u001b[39m env\u001b[39m.\u001b[39maction_space\u001b[39m.\u001b[39msample()\n\u001b[0;32m     24\u001b[0m \u001b[39m# Taking the chosen action in the environment, and get the next state, reward, done flag, and additional info.\u001b[39;00m\n\u001b[1;32m---> 25\u001b[0m n_state, reward, done, _, info \u001b[39m=\u001b[39m env\u001b[39m.\u001b[39;49mstep(action)\n\u001b[0;32m     27\u001b[0m \u001b[39m# Adding the reward for this step to the score.\u001b[39;00m\n\u001b[0;32m     28\u001b[0m score \u001b[39m+\u001b[39m\u001b[39m=\u001b[39m reward\n",
      "File \u001b[1;32mc:\\Users\\joaop\\AppData\\Local\\Programs\\Python\\Python311\\Lib\\site-packages\\gym\\wrappers\\time_limit.py:50\u001b[0m, in \u001b[0;36mTimeLimit.step\u001b[1;34m(self, action)\u001b[0m\n\u001b[0;32m     39\u001b[0m \u001b[39mdef\u001b[39;00m \u001b[39mstep\u001b[39m(\u001b[39mself\u001b[39m, action):\n\u001b[0;32m     40\u001b[0m \u001b[39m    \u001b[39m\u001b[39m\"\"\"Steps through the environment and if the number of steps elapsed exceeds ``max_episode_steps`` then truncate.\u001b[39;00m\n\u001b[0;32m     41\u001b[0m \n\u001b[0;32m     42\u001b[0m \u001b[39m    Args:\u001b[39;00m\n\u001b[1;32m   (...)\u001b[0m\n\u001b[0;32m     48\u001b[0m \n\u001b[0;32m     49\u001b[0m \u001b[39m    \"\"\"\u001b[39;00m\n\u001b[1;32m---> 50\u001b[0m     observation, reward, terminated, truncated, info \u001b[39m=\u001b[39m \u001b[39mself\u001b[39;49m\u001b[39m.\u001b[39;49menv\u001b[39m.\u001b[39;49mstep(action)\n\u001b[0;32m     51\u001b[0m     \u001b[39mself\u001b[39m\u001b[39m.\u001b[39m_elapsed_steps \u001b[39m+\u001b[39m\u001b[39m=\u001b[39m \u001b[39m1\u001b[39m\n\u001b[0;32m     53\u001b[0m     \u001b[39mif\u001b[39;00m \u001b[39mself\u001b[39m\u001b[39m.\u001b[39m_elapsed_steps \u001b[39m>\u001b[39m\u001b[39m=\u001b[39m \u001b[39mself\u001b[39m\u001b[39m.\u001b[39m_max_episode_steps:\n",
      "File \u001b[1;32mc:\\Users\\joaop\\AppData\\Local\\Programs\\Python\\Python311\\Lib\\site-packages\\gym\\wrappers\\order_enforcing.py:37\u001b[0m, in \u001b[0;36mOrderEnforcing.step\u001b[1;34m(self, action)\u001b[0m\n\u001b[0;32m     35\u001b[0m \u001b[39mif\u001b[39;00m \u001b[39mnot\u001b[39;00m \u001b[39mself\u001b[39m\u001b[39m.\u001b[39m_has_reset:\n\u001b[0;32m     36\u001b[0m     \u001b[39mraise\u001b[39;00m ResetNeeded(\u001b[39m\"\u001b[39m\u001b[39mCannot call env.step() before calling env.reset()\u001b[39m\u001b[39m\"\u001b[39m)\n\u001b[1;32m---> 37\u001b[0m \u001b[39mreturn\u001b[39;00m \u001b[39mself\u001b[39;49m\u001b[39m.\u001b[39;49menv\u001b[39m.\u001b[39;49mstep(action)\n",
      "File \u001b[1;32mc:\\Users\\joaop\\AppData\\Local\\Programs\\Python\\Python311\\Lib\\site-packages\\gym\\wrappers\\env_checker.py:39\u001b[0m, in \u001b[0;36mPassiveEnvChecker.step\u001b[1;34m(self, action)\u001b[0m\n\u001b[0;32m     37\u001b[0m     \u001b[39mreturn\u001b[39;00m env_step_passive_checker(\u001b[39mself\u001b[39m\u001b[39m.\u001b[39menv, action)\n\u001b[0;32m     38\u001b[0m \u001b[39melse\u001b[39;00m:\n\u001b[1;32m---> 39\u001b[0m     \u001b[39mreturn\u001b[39;00m \u001b[39mself\u001b[39;49m\u001b[39m.\u001b[39;49menv\u001b[39m.\u001b[39;49mstep(action)\n",
      "File \u001b[1;32mc:\\Users\\joaop\\AppData\\Local\\Programs\\Python\\Python311\\Lib\\site-packages\\gym\\envs\\box2d\\car_racing.py:541\u001b[0m, in \u001b[0;36mCarRacing.step\u001b[1;34m(self, action)\u001b[0m\n\u001b[0;32m    538\u001b[0m \u001b[39mself\u001b[39m\u001b[39m.\u001b[39mworld\u001b[39m.\u001b[39mStep(\u001b[39m1.0\u001b[39m \u001b[39m/\u001b[39m FPS, \u001b[39m6\u001b[39m \u001b[39m*\u001b[39m \u001b[39m30\u001b[39m, \u001b[39m2\u001b[39m \u001b[39m*\u001b[39m \u001b[39m30\u001b[39m)\n\u001b[0;32m    539\u001b[0m \u001b[39mself\u001b[39m\u001b[39m.\u001b[39mt \u001b[39m+\u001b[39m\u001b[39m=\u001b[39m \u001b[39m1.0\u001b[39m \u001b[39m/\u001b[39m FPS\n\u001b[1;32m--> 541\u001b[0m \u001b[39mself\u001b[39m\u001b[39m.\u001b[39mstate \u001b[39m=\u001b[39m \u001b[39mself\u001b[39;49m\u001b[39m.\u001b[39;49m_render(\u001b[39m\"\u001b[39;49m\u001b[39mstate_pixels\u001b[39;49m\u001b[39m\"\u001b[39;49m)\n\u001b[0;32m    543\u001b[0m step_reward \u001b[39m=\u001b[39m \u001b[39m0\u001b[39m\n\u001b[0;32m    544\u001b[0m terminated \u001b[39m=\u001b[39m \u001b[39mFalse\u001b[39;00m\n",
      "File \u001b[1;32mc:\\Users\\joaop\\AppData\\Local\\Programs\\Python\\Python311\\Lib\\site-packages\\gym\\envs\\box2d\\car_racing.py:603\u001b[0m, in \u001b[0;36mCarRacing._render\u001b[1;34m(self, mode)\u001b[0m\n\u001b[0;32m    600\u001b[0m trans \u001b[39m=\u001b[39m pygame\u001b[39m.\u001b[39mmath\u001b[39m.\u001b[39mVector2((scroll_x, scroll_y))\u001b[39m.\u001b[39mrotate_rad(angle)\n\u001b[0;32m    601\u001b[0m trans \u001b[39m=\u001b[39m (WINDOW_W \u001b[39m/\u001b[39m \u001b[39m2\u001b[39m \u001b[39m+\u001b[39m trans[\u001b[39m0\u001b[39m], WINDOW_H \u001b[39m/\u001b[39m \u001b[39m4\u001b[39m \u001b[39m+\u001b[39m trans[\u001b[39m1\u001b[39m])\n\u001b[1;32m--> 603\u001b[0m \u001b[39mself\u001b[39;49m\u001b[39m.\u001b[39;49m_render_road(zoom, trans, angle)\n\u001b[0;32m    604\u001b[0m \u001b[39mself\u001b[39m\u001b[39m.\u001b[39mcar\u001b[39m.\u001b[39mdraw(\n\u001b[0;32m    605\u001b[0m     \u001b[39mself\u001b[39m\u001b[39m.\u001b[39msurf,\n\u001b[0;32m    606\u001b[0m     zoom,\n\u001b[1;32m   (...)\u001b[0m\n\u001b[0;32m    609\u001b[0m     mode \u001b[39mnot\u001b[39;00m \u001b[39min\u001b[39;00m [\u001b[39m\"\u001b[39m\u001b[39mstate_pixels_list\u001b[39m\u001b[39m\"\u001b[39m, \u001b[39m\"\u001b[39m\u001b[39mstate_pixels\u001b[39m\u001b[39m\"\u001b[39m],\n\u001b[0;32m    610\u001b[0m )\n\u001b[0;32m    612\u001b[0m \u001b[39mself\u001b[39m\u001b[39m.\u001b[39msurf \u001b[39m=\u001b[39m pygame\u001b[39m.\u001b[39mtransform\u001b[39m.\u001b[39mflip(\u001b[39mself\u001b[39m\u001b[39m.\u001b[39msurf, \u001b[39mFalse\u001b[39;00m, \u001b[39mTrue\u001b[39;00m)\n",
      "File \u001b[1;32mc:\\Users\\joaop\\AppData\\Local\\Programs\\Python\\Python311\\Lib\\site-packages\\gym\\envs\\box2d\\car_racing.py:648\u001b[0m, in \u001b[0;36mCarRacing._render_road\u001b[1;34m(self, zoom, translation, angle)\u001b[0m\n\u001b[0;32m    640\u001b[0m field \u001b[39m=\u001b[39m [\n\u001b[0;32m    641\u001b[0m     (bounds, bounds),\n\u001b[0;32m    642\u001b[0m     (bounds, \u001b[39m-\u001b[39mbounds),\n\u001b[0;32m    643\u001b[0m     (\u001b[39m-\u001b[39mbounds, \u001b[39m-\u001b[39mbounds),\n\u001b[0;32m    644\u001b[0m     (\u001b[39m-\u001b[39mbounds, bounds),\n\u001b[0;32m    645\u001b[0m ]\n\u001b[0;32m    647\u001b[0m \u001b[39m# draw background\u001b[39;00m\n\u001b[1;32m--> 648\u001b[0m \u001b[39mself\u001b[39;49m\u001b[39m.\u001b[39;49m_draw_colored_polygon(\n\u001b[0;32m    649\u001b[0m     \u001b[39mself\u001b[39;49m\u001b[39m.\u001b[39;49msurf, field, \u001b[39mself\u001b[39;49m\u001b[39m.\u001b[39;49mbg_color, zoom, translation, angle, clip\u001b[39m=\u001b[39;49m\u001b[39mFalse\u001b[39;49;00m\n\u001b[0;32m    650\u001b[0m )\n\u001b[0;32m    652\u001b[0m \u001b[39m# draw grass patches\u001b[39;00m\n\u001b[0;32m    653\u001b[0m grass \u001b[39m=\u001b[39m []\n",
      "File \u001b[1;32mc:\\Users\\joaop\\AppData\\Local\\Programs\\Python\\Python311\\Lib\\site-packages\\gym\\envs\\box2d\\car_racing.py:762\u001b[0m, in \u001b[0;36mCarRacing._draw_colored_polygon\u001b[1;34m(self, surface, poly, color, zoom, translation, angle, clip)\u001b[0m\n\u001b[0;32m    756\u001b[0m \u001b[39mif\u001b[39;00m \u001b[39mnot\u001b[39;00m clip \u001b[39mor\u001b[39;00m \u001b[39many\u001b[39m(\n\u001b[0;32m    757\u001b[0m     (\u001b[39m-\u001b[39mMAX_SHAPE_DIM \u001b[39m<\u001b[39m\u001b[39m=\u001b[39m coord[\u001b[39m0\u001b[39m] \u001b[39m<\u001b[39m\u001b[39m=\u001b[39m WINDOW_W \u001b[39m+\u001b[39m MAX_SHAPE_DIM)\n\u001b[0;32m    758\u001b[0m     \u001b[39mand\u001b[39;00m (\u001b[39m-\u001b[39mMAX_SHAPE_DIM \u001b[39m<\u001b[39m\u001b[39m=\u001b[39m coord[\u001b[39m1\u001b[39m] \u001b[39m<\u001b[39m\u001b[39m=\u001b[39m WINDOW_H \u001b[39m+\u001b[39m MAX_SHAPE_DIM)\n\u001b[0;32m    759\u001b[0m     \u001b[39mfor\u001b[39;00m coord \u001b[39min\u001b[39;00m poly\n\u001b[0;32m    760\u001b[0m ):\n\u001b[0;32m    761\u001b[0m     gfxdraw\u001b[39m.\u001b[39maapolygon(\u001b[39mself\u001b[39m\u001b[39m.\u001b[39msurf, poly, color)\n\u001b[1;32m--> 762\u001b[0m     gfxdraw\u001b[39m.\u001b[39;49mfilled_polygon(\u001b[39mself\u001b[39;49m\u001b[39m.\u001b[39;49msurf, poly, color)\n",
      "\u001b[1;31mKeyboardInterrupt\u001b[0m: "
     ]
    }
   ],
   "source": [
    "# Defining the number of episodes - number of times the game will play itself either if:\n",
    "#   A. The car visits all tiles.\n",
    "#   B. Goes outside of the playfield and far from the track.\n",
    "episodes = 1\n",
    "\n",
    "# Starting a loop to play the given number of episodes.\n",
    "for episode in range(1, episodes+1):\n",
    "    \n",
    "    # Reseting the environment to get the initial state - car starts at rest in the center of the road.\n",
    "    state = env.reset()\n",
    "    \n",
    "    # Flagging to indicate whether the episode is done or not (i.e., whether the terminal state has been reached).\n",
    "    done = False\n",
    "    \n",
    "    # Initializing the score for the episode to 0.\n",
    "    score = 0 \n",
    "    \n",
    "    # Starting a loop that continues until the episode is done.\n",
    "    while not done:\n",
    "        \n",
    "        # Choosing an action randomly from the action space of the environment.\n",
    "        action = env.action_space.sample()\n",
    "        \n",
    "        # Taking the chosen action in the environment, and get the next state, reward, done flag, and additional info.\n",
    "        n_state, reward, done, _, info = env.step(action)\n",
    "        \n",
    "        # Adding the reward for this step to the score.\n",
    "        score += reward\n",
    "    \n",
    "    # Printing out the score for the episode after its conclusion.\n",
    "    print(f'Episode:{episode} Score:{score}')\n",
    "\n",
    "# CLosing the environment.\n",
    "env.close()"
   ]
  },
  {
   "attachments": {},
   "cell_type": "markdown",
   "metadata": {},
   "source": [
    "**Insight:** As seen, without properly training the agent to appropriatly define the right actions to take the accumulated final scores will be very poor (negative values). \n",
    "\n",
    "In order to improve these the agent must be trained in order to:\n",
    "\n",
    "1. **Gather samples from the gameplay (i.e., running the policy);**\n",
    "2. **Fit a model that estimates the tota final return;**\n",
    "3. **Improving the policy, in order to generate at each step an action with the end goal of maximizing the final acuumulated reward.**"
   ]
  },
  {
   "attachments": {},
   "cell_type": "markdown",
   "metadata": {},
   "source": [
    "--------------------------------------------------------------------------------------------------------------------------------------------------------------------------"
   ]
  },
  {
   "attachments": {},
   "cell_type": "markdown",
   "metadata": {},
   "source": [
    "##  **Part III: Setting up the Agent & Policy**\n",
    "\n",
    "Set up the Agent & Policy using Stable Baselines3 - a famous high-level Python library for reinforcement learning exercises."
   ]
  },
  {
   "attachments": {},
   "cell_type": "markdown",
   "metadata": {},
   "source": [
    "### **• Create an Environment Instance and Wrap it:**\n",
    "\n",
    "Creating a new environment instance and wrapping it with the DummyVecEnc class from Stable Baselines3. This will turn the environment into a vectorized environment that allows for multiples copies to be run in parallel."
   ]
  },
  {
   "cell_type": "code",
   "execution_count": 6,
   "metadata": {},
   "outputs": [
    {
     "name": "stderr",
     "output_type": "stream",
     "text": [
      "c:\\Users\\joaop\\AppData\\Local\\Programs\\Python\\Python311\\Lib\\site-packages\\stable_baselines3\\common\\vec_env\\patch_gym.py:49: UserWarning: You provided an OpenAI Gym environment. We strongly recommend transitioning to Gymnasium environments. Stable-Baselines3 is automatically wrapping your environments in a compatibility layer, which could potentially cause issues.\n",
      "  warnings.warn(\n"
     ]
    }
   ],
   "source": [
    "# Creating an instance of the environment.\n",
    "env = gym.make(environment_name, render_mode=\"human\")\n",
    "\n",
    "# Wraping the nevironment to make it compatible with Stable Baselines3 library - which expects a vectorized environment.\n",
    "env = DummyVecEnv([lambda: env])"
   ]
  },
  {
   "attachments": {},
   "cell_type": "markdown",
   "metadata": {},
   "source": [
    "### **• Setup the Agent and Policy**\n",
    "\n",
    "Creating an agent using the **Proximal Policy Optimization** algorithm.\n",
    "\n",
    "This algorithm was built in order to optimize the decisions made by an agent in a given environment in order to maximize the notion of cumulative reward. The idea behind consists of taking steps in the driection that improves the policy, but not too large ones that might harm the performance. In other words, it seeks an optimal policy that is close to the current policy. \n",
    "\n",
    "Mathematically, PPO aims to find the optimal policy π(θ) that maximizes the objective:\n",
    "<center><img src=\"images/ppo_formula.png\"/></center>\n",
    "\n",
    "The main innovation of the this algorithm is the introduction of a \"Clipping\" mechanism that penalizes changes in the policy that deviate too much from the curren policy.\n",
    "\n",
    "In terms of the Policy, \"CNNPolicy\" - a policy architecture option that is especially good at processing grid-like data (i.e., images) was chosen. This CNN, particularly good for game environments, will take in the image-based observation from the environment, process it through its layers to detect important features, and then output an action (or a distribution over actions) that the agent should take."
   ]
  },
  {
   "cell_type": "code",
   "execution_count": null,
   "metadata": {},
   "outputs": [],
   "source": [
    "# Defining the Agent and the Policy.\n",
    "model = PPO(\"CnnPolicy\", \n",
    "            # Defining the environment the model will use.\n",
    "            env, \n",
    "            # Defining the level of detail of training logs.\n",
    "            verbose=1,\n",
    "            # Defining the discount factor for future rewards (how much the agent cares about rewards in the distance future relative to immediate ones).\n",
    "            gamma=0.99,  \n",
    "            # Defining the trade-off between exploration (trying out new actions) and exploitation (sticking to what's known to work)\n",
    "            ent_coef=0.01, \n",
    "            # Defining the learning rate for the optimizer.\n",
    "            learning_rate=0.00025, \n",
    "            # Defining the value function coefficient - scaling factor to change the contribution of the value function loss to the total loss function.\n",
    "            vf_coef=0.5, \n",
    "            # Defining the maximum value for the gradient clipping.\n",
    "            max_grad_norm=0.5,\n",
    "            # Defining the trade-off between variance and bias - technique to reduce variance.\n",
    "            gae_lambda=0.95,\n",
    "            # Defining the clipping parameter for the policy update - how much the new policy can deviate from the old policy during each update.\n",
    "            clip_range=0.2)"
   ]
  },
  {
   "cell_type": "code",
   "execution_count": 7,
   "metadata": {},
   "outputs": [
    {
     "name": "stdout",
     "output_type": "stream",
     "text": [
      "Using cpu device\n",
      "Wrapping the env in a VecTransposeImage.\n"
     ]
    }
   ],
   "source": [
    "# Defining the Agent and the Policy.\n",
    "model = PPO(\"CnnPolicy\", \n",
    "            # Defining the environment the model will use.\n",
    "            env, \n",
    "            # Defining the level of detail of training logs.\n",
    "            verbose=1)"
   ]
  },
  {
   "attachments": {},
   "cell_type": "markdown",
   "metadata": {},
   "source": [
    "--------------------------------------------------------------------------------------------------------------------------------------------------------------------------"
   ]
  },
  {
   "attachments": {},
   "cell_type": "markdown",
   "metadata": {},
   "source": [
    "##  **Part IV: Initial Training**\n",
    "\n",
    "Initially train the model for a small number of steps to see how it works."
   ]
  },
  {
   "cell_type": "code",
   "execution_count": 8,
   "metadata": {},
   "outputs": [],
   "source": [
    "# Defining the short model training path.\n",
    "PPO_path = os.path.join('Training', 'Saved Models', 'PPO_15_Driving_model')"
   ]
  },
  {
   "cell_type": "code",
   "execution_count": null,
   "metadata": {},
   "outputs": [],
   "source": [
    "# Training the short model timesteps - 15.\n",
    "#model.learn(total_timesteps=15)"
   ]
  },
  {
   "cell_type": "code",
   "execution_count": null,
   "metadata": {},
   "outputs": [],
   "source": [
    "# Saving the model.\n",
    "#model.save(PPO_path)"
   ]
  },
  {
   "cell_type": "code",
   "execution_count": null,
   "metadata": {},
   "outputs": [],
   "source": [
    "# Deleting the model.\n",
    "#del model"
   ]
  },
  {
   "cell_type": "code",
   "execution_count": 9,
   "metadata": {},
   "outputs": [
    {
     "name": "stdout",
     "output_type": "stream",
     "text": [
      "Wrapping the env in a VecTransposeImage.\n"
     ]
    }
   ],
   "source": [
    "# Loading the model to see if it was properly saved.\n",
    "model = PPO.load(PPO_path, env=env)"
   ]
  },
  {
   "attachments": {},
   "cell_type": "markdown",
   "metadata": {},
   "source": [
    "##  **Part V: Initial Evaluation**\n",
    "\n",
    "Evaluating the performance of the agent after being trained with the short timestepped model."
   ]
  },
  {
   "cell_type": "code",
   "execution_count": 10,
   "metadata": {},
   "outputs": [
    {
     "name": "stderr",
     "output_type": "stream",
     "text": [
      "c:\\Users\\joaop\\AppData\\Local\\Programs\\Python\\Python311\\Lib\\site-packages\\stable_baselines3\\common\\evaluation.py:67: UserWarning: Evaluation environment is not wrapped with a ``Monitor`` wrapper. This may result in reporting modified episode lengths and rewards, if other wrappers happen to modify these. Consider wrapping environment first with ``Monitor`` wrapper.\n",
      "  warnings.warn(\n"
     ]
    },
    {
     "data": {
      "text/plain": [
       "(-2.8309002332389355, 9.627015572041273)"
      ]
     },
     "execution_count": 10,
     "metadata": {},
     "output_type": "execute_result"
    }
   ],
   "source": [
    "# Evaluating the performance of the model.\n",
    "evaluate_policy(model, env, n_eval_episodes=1)"
   ]
  },
  {
   "attachments": {},
   "cell_type": "markdown",
   "metadata": {},
   "source": [
    "**Insight:** Although we can see some improvements in terms of the actions that the car takes, the agent is definetly not trained as most of its time is spent on grass instead of trying to complete the track. Given such poor generated scores, the hypothesis that can be raised is that with a larger amount of training steps, the agent will be able to learn a better policy in order to take actions that will maximize the accumulated score."
   ]
  },
  {
   "attachments": {},
   "cell_type": "markdown",
   "metadata": {},
   "source": [
    "--------------------------------------------------------------------------------------------------------------------------------------------------------------------------"
   ]
  },
  {
   "attachments": {},
   "cell_type": "markdown",
   "metadata": {},
   "source": [
    "##  **Part VI: Training Stage**\n",
    "\n",
    "Now that the training process is understood and after confirming the poor results from only training the agent on 15 timesteps, the model will be trained for a longer period of time to improve its performance."
   ]
  },
  {
   "cell_type": "code",
   "execution_count": 11,
   "metadata": {},
   "outputs": [],
   "source": [
    "# Defining the long model training path.\n",
    "PPO_path = os.path.join('Training', 'Saved Models', 'PPO_100_Driving_model')"
   ]
  },
  {
   "cell_type": "code",
   "execution_count": null,
   "metadata": {},
   "outputs": [],
   "source": [
    "# Training the long model on 100K timesteps.\n",
    "#model.learn(total_timesteps=100000)"
   ]
  },
  {
   "cell_type": "code",
   "execution_count": null,
   "metadata": {},
   "outputs": [],
   "source": [
    "# Saving the model.\n",
    "#model.save(PPO_path)"
   ]
  },
  {
   "cell_type": "code",
   "execution_count": null,
   "metadata": {},
   "outputs": [],
   "source": [
    "# Deleting the model.\n",
    "#del model"
   ]
  },
  {
   "attachments": {},
   "cell_type": "markdown",
   "metadata": {},
   "source": [
    "------------------------------"
   ]
  },
  {
   "attachments": {},
   "cell_type": "markdown",
   "metadata": {},
   "source": [
    "##  **Part VII: Testing and Evaluation Stages**\n",
    "\n",
    "Evaluating the performance of the testing performed with the long timestepped model."
   ]
  },
  {
   "attachments": {},
   "cell_type": "markdown",
   "metadata": {},
   "source": [
    "### **• Define the Environment:**\n",
    "Defining the type of environment - 'CarRacing-v2'."
   ]
  },
  {
   "cell_type": "code",
   "execution_count": 12,
   "metadata": {},
   "outputs": [],
   "source": [
    "# Defining the type of environment.\n",
    "environment_name = 'CarRacing-v2'"
   ]
  },
  {
   "attachments": {},
   "cell_type": "markdown",
   "metadata": {},
   "source": [
    "### **• Create an Environment Instance and Wrap it:**\n",
    "\n",
    "Creating a new environment instance and wrapping it with the DummyVecEnc class from Stable Baselines3. This will turn the environment into a vectorized environment that allows for multiples copies to be run in parallel."
   ]
  },
  {
   "cell_type": "code",
   "execution_count": 13,
   "metadata": {},
   "outputs": [],
   "source": [
    "# Creating an instance of it and setting the render mode as \"human\" so the environment can be seen on video.\n",
    "env = gym.make(environment_name, render_mode=\"human\")\n",
    "\n",
    "# Wraping the nevironment to make it compatible with Stable Baselines3 library - which expects a vectorized environment.\n",
    "env = DummyVecEnv([lambda: env])"
   ]
  },
  {
   "attachments": {},
   "cell_type": "markdown",
   "metadata": {},
   "source": [
    "### **• Load the Model:**\n",
    "\n",
    "Loading the longer trained model from its orginal path."
   ]
  },
  {
   "cell_type": "code",
   "execution_count": 14,
   "metadata": {},
   "outputs": [
    {
     "name": "stdout",
     "output_type": "stream",
     "text": [
      "Wrapping the env in a VecTransposeImage.\n"
     ]
    }
   ],
   "source": [
    "# Load the best saved model\n",
    "ppo_path = os.path.join('Training', 'Saved Models', 'PPO_100_Driving_model')\n",
    "model = PPO.load(ppo_path, env=env)"
   ]
  },
  {
   "attachments": {},
   "cell_type": "markdown",
   "metadata": {},
   "source": [
    "### **• Model Evaluation:**\n",
    "\n",
    "This step is done to measure the performance of your trained agent. Evaluation gives us an estimate of how well the agent will perform and can be used to compare different models or configurations. "
   ]
  },
  {
   "cell_type": "code",
   "execution_count": 15,
   "metadata": {},
   "outputs": [
    {
     "name": "stdout",
     "output_type": "stream",
     "text": [
      "(234.40571538731456, 52.17575665190816)\n"
     ]
    }
   ],
   "source": [
    "# Evaluating the performance of the longer trained model.\n",
    "evalue = evaluate_policy(model, env, n_eval_episodes=2, render=True)\n",
    "print(evalue)"
   ]
  },
  {
   "attachments": {},
   "cell_type": "markdown",
   "metadata": {},
   "source": [
    "### **• Model Testing:**\n",
    "\n",
    "This step is done as a final assessment of the agent, in order to check how it would operate in the real world given the model that it was trained on."
   ]
  },
  {
   "cell_type": "code",
   "execution_count": 16,
   "metadata": {},
   "outputs": [
    {
     "name": "stdout",
     "output_type": "stream",
     "text": [
      "Episode:1 Score:[650.002]\n",
      "Episode:2 Score:[892.3732]\n",
      "Episode:3 Score:[710.2913]\n"
     ]
    }
   ],
   "source": [
    "# Running multiple episodes and record the scores and time steps.\n",
    "episodes = 3\n",
    "scores_array = []\n",
    "timestep_arr = []\n",
    "\n",
    "# Starting a loop to play the given number of episodes.\n",
    "for episode in range(1, episodes+1):\n",
    "    # Resetting the environment to get the initial state - car starts at rest in the center of the road.\n",
    "    obs = env.reset()\n",
    "    \n",
    "    # Flagging to indicate whether the episode is done or not (i.e., whether the terminal state has been reached).\n",
    "    done = False\n",
    "\n",
    "    # Initializing the score for the episode to 0.\n",
    "    score = 0\n",
    "\n",
    "    # Initializing the timestep as 0.\n",
    "    timestep = 0\n",
    "    \n",
    "    # Starting a loop that continues until the episode is done.\n",
    "    while not done:\n",
    "\n",
    "        # Choosing an action randomly from the action space of the environment.\n",
    "        action, _ = model.predict(obs)\n",
    "\n",
    "        # Taking the chosen action in the environment, and get the next state, reward, done flag, and additional info.\n",
    "        obs, reward, done, info = env.step(action)\n",
    "        \n",
    "        # Adding the reward for this step to the score.\n",
    "        score += reward\n",
    "\n",
    "        # Incrementing the timesteps.\n",
    "        timestep += 1\n",
    "        \n",
    "        # Render the environment.\n",
    "        env.render()\n",
    "    \n",
    "    # Saving both the scores and timesteps.\n",
    "    scores_array.append(score)\n",
    "    timestep_arr.append(timestep)\n",
    "\n",
    "    # Printing out the score for the episode after its conclusion.\n",
    "    print(\"Episode:{} Score:{}\".format(episode, score))\n",
    "\n",
    "# CLosing the environment.\n",
    "env.close()"
   ]
  },
  {
   "attachments": {},
   "cell_type": "markdown",
   "metadata": {},
   "source": [
    "##  **Part VIII: Score Analysis**\n",
    "\n",
    "Plotting the scores and time steps for each episode to analyze the performance of the model."
   ]
  },
  {
   "cell_type": "code",
   "execution_count": 56,
   "metadata": {},
   "outputs": [
    {
     "data": {
      "image/png": "[encoded data removed]",
      "text/plain": [
       "<Figure size 640x480 with 1 Axes>"
      ]
     },
     "metadata": {},
     "output_type": "display_data"
    }
   ],
   "source": [
    "# Plotting the scores and timestep per episode.\n",
    "fig = plt.figure()\n",
    "ax = fig.add_subplot(111)\n",
    "plt.plot(np.arange(1, len(scores_array)+1), scores_array, label=\"Score\", color='red')\n",
    "plt.legend(bbox_to_anchor=(1.05, 1))\n",
    "plt.ylabel('Score')\n",
    "plt.ylim(0,)\n",
    "plt.xticks(np.arange(1, len(scores_array)+1))\n",
    "plt.xlabel('Episodes #')\n",
    "plt.title(\"Scores over Episodes\", fontweight='bold' )\n",
    "plt.show()"
   ]
  },
  {
   "attachments": {},
   "cell_type": "markdown",
   "metadata": {},
   "source": [
    "**Insight:** As observable, with the longer trainedstepped model the results far exceeded the ones from the first testing stages. Despite the better score values, some of irregularity on these still needs to be addressed, hence for now the challenge wasn't fully successful given that none of the runs achieved the necessary 900 points in order to pass it."
   ]
  }
 ],
 "metadata": {
  "kernelspec": {
   "display_name": "Python 3",
   "language": "python",
   "name": "python3"
  },
  "language_info": {
   "codemirror_mode": {
    "name": "ipython",
    "version": 3
   },
   "file_extension": ".py",
   "mimetype": "text/x-python",
   "name": "python",
   "nbconvert_exporter": "python",
   "pygments_lexer": "ipython3",
   "version": "3.11.2"
  },
  "orig_nbformat": 4
 },
 "nbformat": 4,
 "nbformat_minor": 2
}
